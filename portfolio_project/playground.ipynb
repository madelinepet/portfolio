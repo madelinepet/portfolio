{
 "cells": [
  {
   "cell_type": "code",
   "execution_count": 59,
   "metadata": {},
   "outputs": [],
   "source": [
    "import requests\n",
    "import os"
   ]
  },
  {
   "cell_type": "code",
   "execution_count": 60,
   "metadata": {},
   "outputs": [],
   "source": [
    "url = os.environ.get('NASA_URL')"
   ]
  },
  {
   "cell_type": "code",
   "execution_count": 61,
   "metadata": {},
   "outputs": [],
   "source": [
    "response = requests.get(url)"
   ]
  },
  {
   "cell_type": "code",
   "execution_count": 62,
   "metadata": {},
   "outputs": [],
   "source": [
    "data = response.json()"
   ]
  },
  {
   "cell_type": "code",
   "execution_count": 63,
   "metadata": {},
   "outputs": [
    {
     "name": "stdout",
     "output_type": "stream",
     "text": [
      "{'copyright': 'Gabriel Funes', 'date': '2019-01-18', 'explanation': \"As Earth spins on its axis, the stars appear to rotate around an observatory in this well-composed image from the Canary Island of Tenerife. Of course, the colorful concentric arcs traced out by the stars are really centered on the planet's North Celestial Pole. Convenient for northern hemisphere astro-imagers and celestial navigators alike, bright star Polaris is near the pole and positioned in this scene to be behind the telescope dome. Made with a camera fixed to a tripod, the series of over 200 stacked digital exposures spanned about 4 hours. The observatory was not operating on that clear, dark night, but that's not surprising. The dome houses the Teide Observatory's large THEMIS Solar Telescope.\", 'hdurl': 'https://apod.nasa.gov/apod/image/1901/Startrail_Funes.jpg', 'media_type': 'image', 'service_version': 'v1', 'title': 'Circumpolar Star Trails', 'url': 'https://apod.nasa.gov/apod/image/1901/Startrail_Funes1024.jpg'}\n"
     ]
    }
   ],
   "source": [
    "print(data)"
   ]
  },
  {
   "cell_type": "code",
   "execution_count": 64,
   "metadata": {},
   "outputs": [
    {
     "name": "stdout",
     "output_type": "stream",
     "text": [
      "https://apod.nasa.gov/apod/image/1901/Startrail_Funes1024.jpg\n"
     ]
    }
   ],
   "source": [
    "print(data['url'])\n",
    "    "
   ]
  },
  {
   "cell_type": "code",
   "execution_count": null,
   "metadata": {},
   "outputs": [],
   "source": []
  }
 ],
 "metadata": {
  "kernelspec": {
   "display_name": "Python 3",
   "language": "python",
   "name": "python3"
  },
  "language_info": {
   "codemirror_mode": {
    "name": "ipython",
    "version": 3
   },
   "file_extension": ".py",
   "mimetype": "text/x-python",
   "name": "python",
   "nbconvert_exporter": "python",
   "pygments_lexer": "ipython3",
   "version": "3.7.0"
  }
 },
 "nbformat": 4,
 "nbformat_minor": 2
}
