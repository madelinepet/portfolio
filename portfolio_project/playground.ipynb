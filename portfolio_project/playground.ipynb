{
 "cells": [
  {
   "cell_type": "code",
   "execution_count": 42,
   "metadata": {},
   "outputs": [],
   "source": [
    "import requests\n",
    "import os"
   ]
  },
  {
   "cell_type": "code",
   "execution_count": 37,
   "metadata": {},
   "outputs": [],
   "source": [
    "url = os."
   ]
  },
  {
   "cell_type": "code",
   "execution_count": 38,
   "metadata": {},
   "outputs": [],
   "source": [
    "response = requests.get(url)"
   ]
  },
  {
   "cell_type": "code",
   "execution_count": 39,
   "metadata": {},
   "outputs": [],
   "source": [
    "data = response.json()"
   ]
  },
  {
   "cell_type": "code",
   "execution_count": 40,
   "metadata": {},
   "outputs": [
    {
     "name": "stdout",
     "output_type": "stream",
     "text": [
      "{'copyright': 'Clear Skies', 'date': '2019-01-17', 'explanation': \"Gocka's, a family nickname for the mountain cabin, and a wooden sled from a generation past stand quietly under the stars. The single exposure image was taken on January 6 from Tanndalen Sweden to evoke a simple visual experience of the dark mountain skies. A pale band of starlight along the Milky Way sweeps through the scene. At the foot of Orion the Hunter, bright star Rigel shines just above the old kicksled's handrail. Capella, alpha star of Auriga the celestial charioteer, is the brightest star at the top of the frame. In fact, the familiar stars of the winter hexagon and the Pleiades star cluster can all be found in this beautiful skyscape from a northern winter night.\", 'hdurl': 'https://apod.nasa.gov/apod/image/1901/KicksledTWAN20190106.jpg', 'media_type': 'image', 'service_version': 'v1', 'title': 'Cabin under the Stars', 'url': 'https://apod.nasa.gov/apod/image/1901/KicksledTWAN20190106.jpg'}\n"
     ]
    }
   ],
   "source": [
    "print(data)"
   ]
  },
  {
   "cell_type": "code",
   "execution_count": 41,
   "metadata": {},
   "outputs": [
    {
     "name": "stdout",
     "output_type": "stream",
     "text": [
      "copyright\n",
      "date\n",
      "explanation\n",
      "hdurl\n",
      "media_type\n",
      "service_version\n",
      "title\n",
      "url\n"
     ]
    }
   ],
   "source": [
    "for thing in data:\n",
    "    print(thing)\n",
    "    "
   ]
  },
  {
   "cell_type": "code",
   "execution_count": null,
   "metadata": {},
   "outputs": [],
   "source": []
  }
 ],
 "metadata": {
  "kernelspec": {
   "display_name": "Python 3",
   "language": "python",
   "name": "python3"
  },
  "language_info": {
   "codemirror_mode": {
    "name": "ipython",
    "version": 3
   },
   "file_extension": ".py",
   "mimetype": "text/x-python",
   "name": "python",
   "nbconvert_exporter": "python",
   "pygments_lexer": "ipython3",
   "version": "3.7.0"
  }
 },
 "nbformat": 4,
 "nbformat_minor": 2
}
